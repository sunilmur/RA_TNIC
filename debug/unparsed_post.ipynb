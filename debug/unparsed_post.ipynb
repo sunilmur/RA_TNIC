{
 "cells": [
  {
   "cell_type": "code",
   "execution_count": null,
   "metadata": {
    "collapsed": true
   },
   "outputs": [],
   "source": [
    "#/usr/bin/python3\n",
    "\n",
    "# Description:     Clean and assemble the unparsed files\n",
    "# Author:          Bruce Y. Li\n",
    "# Date:            12/01/2016"
   ]
  },
  {
   "cell_type": "code",
   "execution_count": 1,
   "metadata": {
    "collapsed": true
   },
   "outputs": [],
   "source": [
    "import parser as ps\n",
    "import os\n",
    "import re\n",
    "import json\n",
    "from bs4 import BeautifulSoup"
   ]
  },
  {
   "cell_type": "code",
   "execution_count": 2,
   "metadata": {
    "collapsed": false
   },
   "outputs": [],
   "source": [
    "# Set up the working directory\n",
    "os.chdir('/yuan/10k/New10K/')\n",
    "if not os.path.exists('unparsed/'):\n",
    "    os.makedirs('unparsed')\n"
   ]
  },
  {
   "cell_type": "code",
   "execution_count": 4,
   "metadata": {
    "collapsed": false
   },
   "outputs": [
    {
     "data": {
      "text/plain": [
       "'filing_year/file_name'"
      ]
     },
     "execution_count": 4,
     "metadata": {},
     "output_type": "execute_result"
    }
   ],
   "source": [
    "# Step One: Load unparsed index\n",
    "idx = []\n",
    "with open('index_unparsed.csv', 'rt') as f:\n",
    "    for line in f.readlines():\n",
    "        items = re.split(',', line)\n",
    "        fileName = items[5].strip() + '/' + items[4]\n",
    "        idx.append(fileName)\n",
    "        \n",
    "idx.pop(0)"
   ]
  },
  {
   "cell_type": "code",
   "execution_count": 6,
   "metadata": {
    "collapsed": false
   },
   "outputs": [],
   "source": [
    "# Step Two: Move\n",
    "for i in idx:\n",
    "    origin = 'raw/' + i\n",
    "    output = 'unparsed/' + i\n",
    "    \n",
    "    if not os.path.exists(output):\n",
    "        with open(origin, 'rt') as f:\n",
    "            data = f.read()\n",
    "\n",
    "        with open(output, 'wt') as f:\n",
    "            f.write(ps.clean_text(data))"
   ]
  }
 ],
 "metadata": {
  "kernelspec": {
   "display_name": "Python 3",
   "language": "python",
   "name": "python3"
  },
  "language_info": {
   "codemirror_mode": {
    "name": "ipython",
    "version": 3
   },
   "file_extension": ".py",
   "mimetype": "text/x-python",
   "name": "python",
   "nbconvert_exporter": "python",
   "pygments_lexer": "ipython3",
   "version": "3.5.2"
  }
 },
 "nbformat": 4,
 "nbformat_minor": 0
}
