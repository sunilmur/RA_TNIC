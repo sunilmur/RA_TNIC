{
 "cells": [
  {
   "cell_type": "code",
   "execution_count": 1,
   "metadata": {
    "collapsed": true
   },
   "outputs": [],
   "source": [
    "#!/usr/bin/pyhon3\n",
    "\n",
    "# This code extracts the filing date information\n",
    "# Note this code is mainly for patching what we have found"
   ]
  },
  {
   "cell_type": "code",
   "execution_count": 1,
   "metadata": {
    "collapsed": true
   },
   "outputs": [],
   "source": [
    "import re\n",
    "import os\n",
    "import json\n",
    "import parser as ps"
   ]
  },
  {
   "cell_type": "code",
   "execution_count": 2,
   "metadata": {
    "collapsed": true
   },
   "outputs": [],
   "source": [
    "def extract_fdate(year):\n",
    "    \"\"\"\n",
    "    To generate the index file of filing date and fiscal year\n",
    "    \"\"\"\n",
    "    \n",
    "    baseDir = 'raw/' + str(year) + '/'\n",
    "    fList = os.listdir(baseDir)\n",
    "    \n",
    "    idx = []\n",
    "    \n",
    "    for i in fList:\n",
    "        cik = re.split(r'_', i)[0]\n",
    "        with open(baseDir + i, 'rt') as f:\n",
    "            FYEnd = ''\n",
    "            FDate = ''\n",
    "            try:\n",
    "                for line in f.readlines():\n",
    "                    if re.search(r'^CONFORMED PERIOD OF REPORT', line):\n",
    "                        FYEnd = re.search(r'\\d+', line).group(0)\n",
    "                    if re.search(r'^FILED AS OF DATE', line):\n",
    "                        FDate = re.search(r'\\d+', line).group(0)\n",
    "                    if FYEnd != '' and FDate != '':\n",
    "                        break\n",
    "            except UnicodeDecodeError:\n",
    "                continue\n",
    "      \n",
    "        with open('afdate' + str(year) + '.idx', 'at') as f:\n",
    "            f.write(cik + '\\t' + FYEnd + '\\t' + FDate  + '\\t' + i + '\\n')"
   ]
  },
  {
   "cell_type": "code",
   "execution_count": 5,
   "metadata": {
    "collapsed": false
   },
   "outputs": [
    {
     "name": "stdout",
     "output_type": "stream",
     "text": [
      "2009\n",
      "2010\n",
      "2011\n",
      "2012\n",
      "2013\n",
      "2014\n",
      "2015\n",
      "2016\n"
     ]
    }
   ],
   "source": [
    "# Step 1: Generate idx for ALL files\n",
    "os.chdir('/yuan/10k/New10K/')\n",
    "for year in range(2009,2017):\n",
    "    print(year)\n",
    "    extract_fdate(year)"
   ]
  },
  {
   "cell_type": "code",
   "execution_count": null,
   "metadata": {
    "collapsed": true
   },
   "outputs": [],
   "source": [
    "# Step 2: Call R functions to clean the idx file\n",
    "# fix_idx.R"
   ]
  },
  {
   "cell_type": "code",
   "execution_count": null,
   "metadata": {
    "collapsed": true
   },
   "outputs": [],
   "source": [
    "# Step 3: Go to main-parser, and run the logMode = 0 case"
   ]
  },
  {
   "cell_type": "code",
   "execution_count": 27,
   "metadata": {
    "collapsed": true
   },
   "outputs": [],
   "source": [
    "# Appendix: Batch renaming files\n",
    "def batch_rename(year):\n",
    "    \"\"\"\n",
    "    Attaching the fdate information into the filename\n",
    "    \"\"\"\n",
    "    \n",
    "    baseDir = 'processed/' + str(year) + '/'\n",
    "    fList = os.listdir(baseDir)\n",
    "    idx = ps.load_idx(year)\n",
    "    \n",
    "    ciks = [i['cik'] for i in idx]\n",
    "    fdates = [i['fdate'] for i in idx]\n",
    "    \n",
    "    for i in fList:\n",
    "        fdate = fdates[ciks.index(i.replace('.txt', ''))]\n",
    "        newName = i.replace('.txt', '') + '-' + str(fdate) + '.txt'\n",
    "        os.rename(baseDir + i, baseDir + newName)"
   ]
  },
  {
   "cell_type": "code",
   "execution_count": 31,
   "metadata": {
    "collapsed": false
   },
   "outputs": [],
   "source": [
    "# batch_rename(2016)"
   ]
  },
  {
   "cell_type": "code",
   "execution_count": 2,
   "metadata": {
    "collapsed": true
   },
   "outputs": [],
   "source": [
    "# Adding the new file name to the old IDX file\n",
    "def fix_idx_date(year):\n",
    "    idx = ps.load_idx_old(year)\n",
    "    for i in idx:\n",
    "        ps.write_idx(year, i['cik'], i['fy'], i['fdate'])"
   ]
  },
  {
   "cell_type": "code",
   "execution_count": 4,
   "metadata": {
    "collapsed": true
   },
   "outputs": [],
   "source": [
    "# os.chdir('/yuan/10k/New10K/')"
   ]
  },
  {
   "cell_type": "code",
   "execution_count": 8,
   "metadata": {
    "collapsed": false
   },
   "outputs": [],
   "source": [
    "# fix_idx_date(2016)"
   ]
  }
 ],
 "metadata": {
  "kernelspec": {
   "display_name": "Python 3",
   "language": "python",
   "name": "python3"
  },
  "language_info": {
   "codemirror_mode": {
    "name": "ipython",
    "version": 3
   },
   "file_extension": ".py",
   "mimetype": "text/x-python",
   "name": "python",
   "nbconvert_exporter": "python",
   "pygments_lexer": "ipython3",
   "version": "3.5.2"
  }
 },
 "nbformat": 4,
 "nbformat_minor": 0
}
