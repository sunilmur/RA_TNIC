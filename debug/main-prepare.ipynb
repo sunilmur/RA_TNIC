{
 "cells": [
  {
   "cell_type": "code",
   "execution_count": null,
   "metadata": {
    "collapsed": true
   },
   "outputs": [],
   "source": [
    "#!/usr/bin/python3\n",
    "\n",
    "# Description:   This code prepares for the 10K files, including downloading and recoding\n",
    "# Author:        Bruce (Yuan) Li / liyuan@villagel.com\n",
    "# Date:          09/05/2016"
   ]
  },
  {
   "cell_type": "code",
   "execution_count": null,
   "metadata": {
    "collapsed": false
   },
   "outputs": [],
   "source": [
    "import sys, os, re\n",
    "from ftplib import FTP\n",
    "import json"
   ]
  },
  {
   "cell_type": "code",
   "execution_count": null,
   "metadata": {
    "collapsed": true
   },
   "outputs": [],
   "source": [
    "# Steps for downloading files\n",
    "#    1 - Step 1: Specify a Year, and download idx file\n",
    "#    2 - Step 2: Extract from idx and get 10K url\n",
    "#    3 - Step 3: Download file (stable and able to maintain the list)\n",
    "#    4 - Step 4: Recodify the steps"
   ]
  },
  {
   "cell_type": "code",
   "execution_count": null,
   "metadata": {
    "collapsed": false
   },
   "outputs": [],
   "source": [
    "def download_idx(year):\n",
    "    \"\"\"\n",
    "    Download the idx file for 10K files\n",
    "    \"\"\"\n",
    "    print('Downloading for year ' + str(year))\n",
    "    if not os.path.exists('raw/idx/'):\n",
    "        os.mkdir('raw/idx/')\n",
    "        \n",
    "    url = 'ftp.sec.gov'\n",
    "    path = ['/edgar/full-index/' + str(year) + '/QTR' + str(x) + '/' for x in range(1,5)]\n",
    "    \n",
    "    ftp = FTP(url)\n",
    "    ftp.login()\n",
    "    \n",
    "    \n",
    "    for i in path:\n",
    "        qtr = re.search(r'QTR\\d', i).group(0)\n",
    "        zip_name = 'raw/idx/form_' + str(year) + '_' + qtr + '.zip'\n",
    "        idx_name = 'raw/idx/form_' + str(year) + '_' + qtr + '.idx'\n",
    "        if os.path.exists(idx_name):\n",
    "            print('Already downloaded ' + idx_name)\n",
    "        else:\n",
    "            print('    Entering ' + i)\n",
    "            ftp.cwd(i)\n",
    "            print('    Retriving...')\n",
    "            ftp.retrbinary('RETR form.zip', open(zip_name, 'wb').write)\n",
    "\n",
    "            print('    Unzipping...')\n",
    "            cmd_unzip = 'unzip -o ' + zip_name + ' -d ' + 'raw/idx/'\n",
    "            cmd_renme = 'mv raw/idx/form.idx ' + idx_name\n",
    "            os.system(cmd_unzip)\n",
    "            os.system(cmd_renme)"
   ]
  },
  {
   "cell_type": "code",
   "execution_count": null,
   "metadata": {
    "collapsed": true
   },
   "outputs": [],
   "source": [
    "def gen_idx(year):\n",
    "    \"\"\"\n",
    "    Generate the idx file for 10K files\n",
    "    \"\"\"\n",
    "    ten_k_list = []\n",
    "    for i in range(1,5):\n",
    "        fName = 'raw/idx/form_' + str(year) + '_QTR' + str(i) + '.idx'\n",
    "        with open(fName, 'rt', errors='replace') as f:\n",
    "            for line in f.readlines():\n",
    "                info = re.split('\\s{2,}', line)\n",
    "                if len(info) == 6:\n",
    "                    if re.match(r'10-K.*', info[0], flags = re.IGNORECASE):\n",
    "                        ten_k_list.append({'name':info[1],\n",
    "                                           'cik':info[2],\n",
    "                                           'link':info[4]})\n",
    "    return(ten_k_list)"
   ]
  },
  {
   "cell_type": "code",
   "execution_count": null,
   "metadata": {
    "collapsed": false
   },
   "outputs": [],
   "source": [
    "def idx_wrapper():\n",
    "    \"\"\"\n",
    "    Wrapper to prepare idx file\n",
    "    \"\"\"\n",
    "    for i in range(2011, 2012):\n",
    "        download_idx(i)\n",
    "        lib = gen_idx(i)\n",
    "        with open('raw/idx/library_' + str(i) + '.json', 'wt') as f:\n",
    "            json.dump(lib, f)"
   ]
  },
  {
   "cell_type": "code",
   "execution_count": null,
   "metadata": {
    "collapsed": true
   },
   "outputs": [],
   "source": [
    "def download_10k(fList, year):\n",
    "    \"\"\"\n",
    "    Download the files in the fList from edgar FTP\n",
    "    \"\"\"\n",
    "    if not os.path.exists('raw/' + str(year)):\n",
    "        os.makedirs('raw/' + str(year))\n",
    "    \n",
    "    url = 'ftp.sec.gov'\n",
    "    ftp = FTP(url)\n",
    "    ftp.login()\n",
    "    \n",
    "    for i in fList:\n",
    "        fName = re.search(r'/(\\d)*/(\\d|-)*\\.txt', i).group(0)\n",
    "        fName = re.sub(r'^/', '', fName)\n",
    "        fName = fName.replace('/', '_')\n",
    "        tempFile = 'raw/temp.txt'\n",
    "        fPath = 'raw/' + str(year) + '/' + fName\n",
    "        ftpDir = '/' + re.search(r'edgar/data/(\\d)*/', i).group(0)\n",
    "        ftpFile = re.search('/(\\d|-)*.txt', i).group(0)\n",
    "        ftpFile = ftpFile.replace('/', '')\n",
    "    \n",
    "        if not os.path.exists(fPath):\n",
    "            print('    Retriving ' + fName)\n",
    "            status1 = ftp.cwd(ftpDir)\n",
    "            if re.search('successful', status1):\n",
    "                status2 = ftp.retrbinary('RETR ' + ftpFile, open(tempFile, 'wb').write)\n",
    "                if re.search('complete', status2):\n",
    "                    os.rename(tempFile, fPath)"
   ]
  },
  {
   "cell_type": "code",
   "execution_count": null,
   "metadata": {
    "collapsed": true
   },
   "outputs": [],
   "source": [
    "def download_wrapper(year):\n",
    "    \"\"\"\n",
    "    A wrapper for the downloading functions\n",
    "    \"\"\"\n",
    "    with open('raw/idx/library_' + str(year) + '.json', 'rt') as f:\n",
    "        dat = json.load(f)\n",
    "        \n",
    "    fList = [i['link'] for i in dat]\n",
    "    download_10k(fList, year)"
   ]
  },
  {
   "cell_type": "code",
   "execution_count": null,
   "metadata": {
    "collapsed": false
   },
   "outputs": [],
   "source": [
    "# -- Main -- #\n",
    "os.chdir('/home/yuan/10k/New10K/')\n",
    "# idx_wrapper()"
   ]
  },
  {
   "cell_type": "code",
   "execution_count": null,
   "metadata": {
    "collapsed": true
   },
   "outputs": [],
   "source": [
    "download_wrapper(2009)"
   ]
  }
 ],
 "metadata": {
  "kernelspec": {
   "display_name": "Python 3",
   "language": "python",
   "name": "python3"
  },
  "language_info": {
   "codemirror_mode": {
    "name": "ipython",
    "version": 3
   },
   "file_extension": ".py",
   "mimetype": "text/x-python",
   "name": "python",
   "nbconvert_exporter": "python",
   "pygments_lexer": "ipython3",
   "version": "3.5.2"
  }
 },
 "nbformat": 4,
 "nbformat_minor": 0
}
