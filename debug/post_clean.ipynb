{
 "cells": [
  {
   "cell_type": "code",
   "execution_count": null,
   "metadata": {
    "collapsed": true
   },
   "outputs": [],
   "source": [
    "#!/usr/bin/python3\n",
    "\n",
    "# This code takes out management CV discussion from item ones"
   ]
  },
  {
   "cell_type": "code",
   "execution_count": null,
   "metadata": {
    "collapsed": true
   },
   "outputs": [],
   "source": [
    "import re\n",
    "import os"
   ]
  },
  {
   "cell_type": "code",
   "execution_count": null,
   "metadata": {
    "collapsed": true
   },
   "outputs": [],
   "source": [
    "os.chdir('/yuan/10k/New10K/')"
   ]
  },
  {
   "cell_type": "code",
   "execution_count": null,
   "metadata": {
    "collapsed": true
   },
   "outputs": [],
   "source": [
    "def clean_emp(year):\n",
    "    \"\"\"\n",
    "    Clean the employement section in 10K\n",
    "    \"\"\"\n",
    "    baseDir = 'processed/' + str(year) + '/'\n",
    "    fList = os.listdir(baseDir)\n",
    "    \n",
    "    emp = re.compile(r'\\n( *)employee(s?)(\\s*)(\\n{1,}).*\\n', flags=re.I)\n",
    "    \n",
    "    for i in fList:\n",
    "        with open(baseDir + i, 'rt') as f:\n",
    "            text = f.read()\n",
    "        newText = emp.sub('', text)\n",
    "        with open(baseDir + i, 'wt') as f:\n",
    "            f.write(newText)"
   ]
  },
  {
   "cell_type": "code",
   "execution_count": null,
   "metadata": {
    "collapsed": false
   },
   "outputs": [],
   "source": [
    "clean_emp(2014)\n",
    "clean_emp(2015)\n",
    "clean_emp(2016)"
   ]
  }
 ],
 "metadata": {
  "kernelspec": {
   "display_name": "Python 3",
   "language": "python",
   "name": "python3"
  },
  "language_info": {
   "codemirror_mode": {
    "name": "ipython",
    "version": 3
   },
   "file_extension": ".py",
   "mimetype": "text/x-python",
   "name": "python",
   "nbconvert_exporter": "python",
   "pygments_lexer": "ipython3",
   "version": "3.5.2"
  }
 },
 "nbformat": 4,
 "nbformat_minor": 0
}
